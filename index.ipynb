{
 "cells": [
  {
   "cell_type": "markdown",
   "metadata": {},
   "source": [
    "# Welcome to the RedCap API Workshop\n",
    "---\n",
    "\n",
    "Hopefully you all have your CAMH RedCap login credentials and have accessed a copy of your API token.\n",
    "If not, please take care of this before continuing."
   ]
  },
  {
   "cell_type": "markdown",
   "metadata": {},
   "source": [
    "## Workshop Outline\n",
    "---\n",
    "By the end of this workshop we hope that you will learn what the RedCap API is, and how you can use it for your project.\n",
    "\n",
    "During this workshop we will cover the following topics:\n",
    " 1. [What is an API?](#what-is-an-api)\n",
    " 2. [What is a RESTful API?](#what-is-a-restful-api)\n",
    "    - GET\n",
    "    - PUT\n",
    "    - POST\n",
    "    - DELETE\n",
    " 3. [RedCap API Playground](#redcap-api-playground)\n",
    "    - Options for connecting to the API\n",
    "    - JSON and CSV support\n",
    "    - Using the API Playgroud GUI\n",
    " 4. [Using Python with the API](#using-python-with-the-api)\n",
    "    - requests and pycap\n",
    "    - Ex. Export records\n",
    "    - Ex. Import records\n",
    "    - Ex. Arms/Events\n",
    "    - Ex. Reports\n",
    "    - Ex. Surveys\n",
    " 5. [Data Analysis and Visualization](#data-analysis-and-visualization)\n",
    "    - Ex. Using pandas package\n",
    "    - Ex. Using matplotlib for visualization\n",
    "    \n"
   ]
  },
  {
   "cell_type": "markdown",
   "metadata": {},
   "source": [
    "## <a name=\"what-is-an-api\"></a>What is an API\n",
    "---"
   ]
  },
  {
   "cell_type": "markdown",
   "metadata": {},
   "source": [
    "## <a name=\"what-is-a-restful-api\"></a>What is a RESTful API\n",
    "---"
   ]
  },
  {
   "cell_type": "markdown",
   "metadata": {},
   "source": [
    "## <a name=\"redcap-api-playground\"></a>RedCap API Playground\n",
    "---"
   ]
  },
  {
   "cell_type": "markdown",
   "metadata": {},
   "source": [
    "## <a name=\"using-python-with-the-api\"></a>Using Python with the API\n",
    "---\n"
   ]
  },
  {
   "cell_type": "markdown",
   "metadata": {},
   "source": [
    "## <a name=\"data-analysis-and-visualization\"></a>Data Analysis and Visualization\n",
    "---\n"
   ]
  },
  {
   "cell_type": "code",
   "execution_count": null,
   "metadata": {},
   "outputs": [],
   "source": [
    "import os"
   ]
  }
 ],
 "metadata": {
  "kernelspec": {
   "display_name": "Python 3",
   "language": "python",
   "name": "python3"
  },
  "language_info": {
   "codemirror_mode": {
    "name": "ipython",
    "version": 3
   },
   "file_extension": ".py",
   "mimetype": "text/x-python",
   "name": "python",
   "nbconvert_exporter": "python",
   "pygments_lexer": "ipython3",
   "version": "3.7.3"
  }
 },
 "nbformat": 4,
 "nbformat_minor": 2
}
